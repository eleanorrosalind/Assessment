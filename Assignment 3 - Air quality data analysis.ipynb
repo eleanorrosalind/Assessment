{
 "cells": [
  {
   "cell_type": "markdown",
   "metadata": {},
   "source": [
    "## Assignment template 3) Air quality and data analysis\n",
    "\n",
    "This assignment follows on from 'Practical 7 - Pandas and statistics'. The data for this exercise has been taken from the following repository:\n",
    "\n",
    " - The Harvard Dataverse: https://dataverse.harvard.edu\n",
    " - Wang, Hongwei, 2019, \"Air pollution and meteorological data in Beijing 2017-2018\", https://doi.org/10.7910/DVN/USXCAK, Harvard Dataverse, V1\n",
    " - URL: https://dataverse.harvard.edu/dataset.xhtml?persistentId=doi:10.7910/DVN/USXCAK\n",
    " \n",
    "The main objective is:\n",
    "\n",
    "<div class=\"alert alert-block alert-success\">\n",
    "<b> Create a heatmap of correlation coefficients between PM2.5 [Particulate Matter] for 5 air quality stations and a boxplot of average PM2.5 at those stations <a name=\"Exercise4\"></a>  </b> \n",
    "    \n",
    "Overview: You are tasked with trying to resolve correlations between PM2.5 across 5 different sites in Beijing. These sites are selected as:\n",
    "\n",
    " - Nansanhuan\n",
    " - Yizhuang\n",
    " - Yongdingmennei\n",
    " - Qianmen\n",
    " - Beibuxinqu\n",
    "\n",
    "Based on the example given in class, we can break this exercise down into a number of steps:\n",
    "\n",
    " - Creating a new dataframe for each station ID and ONLY the PM2.5 columns\n",
    " - Renaming the columns with PM2.5 data. Why is this?\n",
    " - Using UTC time as the common index in all dataframes\n",
    " - Merging dataframes into a new one\n",
    " - Generating a correlation coefficient matrix from this new dataframe\n",
    " - Producing a heatmap and boxplot\n",
    " \n",
    "<div class=\"alert alert-block alert-warning\">\n",
    "<b>Please note:</b> For renaming a column in a dataframe, you can use the function .rename as per the following demonstration for data from nansanhuan:\n",
    "\n",
    "```python\n",
    "nansanhuan_aq_df=nansanhuan_aq_df.rename(columns={\"PM2.5\": \"PM2.5_nansanhuan\"})\n",
    "```\n",
    "\n",
    "You will need to load the data we have originally used in 'Practical 7 - Pandas and statistics' which can be found in the 'data' folder.\n",
    "\n",
    "We will discuss this in class, but aside from a working notebook we are also looking for the following:\n",
    "\n",
    " - An associated narrative with each operation, \n",
    " - Comments in the code boxes using the # symbol\n",
    " - A brief summary of results\n",
    " - A list of any references used\n",
    "   \n",
    "Also please note that to add another code or markdown box, you can simple use the 'Insert' option on the main menu.\n",
    "  \n",
    "</div>\n",
    "\n",
    "</div>"
   ]
  },
  {
   "cell_type": "code",
   "execution_count": 120,
   "metadata": {},
   "outputs": [],
   "source": [
    "#Importing pandas and the data\n",
    "\n",
    "import pandas as pd\n",
    "data = pd.read_csv(\"data/beijing_17_18_aq.csv\")"
   ]
  },
  {
   "cell_type": "code",
   "execution_count": 121,
   "metadata": {
    "scrolled": true
   },
   "outputs": [
    {
     "data": {
      "text/html": [
       "<div>\n",
       "<style scoped>\n",
       "    .dataframe tbody tr th:only-of-type {\n",
       "        vertical-align: middle;\n",
       "    }\n",
       "\n",
       "    .dataframe tbody tr th {\n",
       "        vertical-align: top;\n",
       "    }\n",
       "\n",
       "    .dataframe thead th {\n",
       "        text-align: right;\n",
       "    }\n",
       "</style>\n",
       "<table border=\"1\" class=\"dataframe\">\n",
       "  <thead>\n",
       "    <tr style=\"text-align: right;\">\n",
       "      <th></th>\n",
       "      <th>stationId</th>\n",
       "      <th>utc_time</th>\n",
       "      <th>PM2.5</th>\n",
       "      <th>PM10</th>\n",
       "      <th>NO2</th>\n",
       "      <th>CO</th>\n",
       "      <th>O3</th>\n",
       "      <th>SO2</th>\n",
       "    </tr>\n",
       "  </thead>\n",
       "  <tbody>\n",
       "    <tr>\n",
       "      <td>151062</td>\n",
       "      <td>nansanhuan_aq</td>\n",
       "      <td>01/01/2017 14:00</td>\n",
       "      <td>431.0</td>\n",
       "      <td>467.0</td>\n",
       "      <td>147.0</td>\n",
       "      <td>6.5</td>\n",
       "      <td>3.0</td>\n",
       "      <td>14.0</td>\n",
       "    </tr>\n",
       "    <tr>\n",
       "      <td>151063</td>\n",
       "      <td>nansanhuan_aq</td>\n",
       "      <td>01/01/2017 15:00</td>\n",
       "      <td>426.0</td>\n",
       "      <td>444.0</td>\n",
       "      <td>144.0</td>\n",
       "      <td>6.7</td>\n",
       "      <td>3.0</td>\n",
       "      <td>13.0</td>\n",
       "    </tr>\n",
       "    <tr>\n",
       "      <td>151064</td>\n",
       "      <td>nansanhuan_aq</td>\n",
       "      <td>01/01/2017 16:00</td>\n",
       "      <td>420.0</td>\n",
       "      <td>451.0</td>\n",
       "      <td>136.0</td>\n",
       "      <td>0.7</td>\n",
       "      <td>3.0</td>\n",
       "      <td>13.0</td>\n",
       "    </tr>\n",
       "    <tr>\n",
       "      <td>151065</td>\n",
       "      <td>nansanhuan_aq</td>\n",
       "      <td>01/01/2017 17:00</td>\n",
       "      <td>417.0</td>\n",
       "      <td>446.0</td>\n",
       "      <td>128.0</td>\n",
       "      <td>7.4</td>\n",
       "      <td>3.0</td>\n",
       "      <td>13.0</td>\n",
       "    </tr>\n",
       "    <tr>\n",
       "      <td>151066</td>\n",
       "      <td>nansanhuan_aq</td>\n",
       "      <td>01/01/2017 18:00</td>\n",
       "      <td>426.0</td>\n",
       "      <td>465.0</td>\n",
       "      <td>124.0</td>\n",
       "      <td>0.8</td>\n",
       "      <td>3.0</td>\n",
       "      <td>12.0</td>\n",
       "    </tr>\n",
       "  </tbody>\n",
       "</table>\n",
       "</div>"
      ],
      "text/plain": [
       "            stationId          utc_time  PM2.5   PM10    NO2   CO   O3   SO2\n",
       "151062  nansanhuan_aq  01/01/2017 14:00  431.0  467.0  147.0  6.5  3.0  14.0\n",
       "151063  nansanhuan_aq  01/01/2017 15:00  426.0  444.0  144.0  6.7  3.0  13.0\n",
       "151064  nansanhuan_aq  01/01/2017 16:00  420.0  451.0  136.0  0.7  3.0  13.0\n",
       "151065  nansanhuan_aq  01/01/2017 17:00  417.0  446.0  128.0  7.4  3.0  13.0\n",
       "151066  nansanhuan_aq  01/01/2017 18:00  426.0  465.0  124.0  0.8  3.0  12.0"
      ]
     },
     "execution_count": 121,
     "metadata": {},
     "output_type": "execute_result"
    }
   ],
   "source": [
    "#Creating a variable to hold all the data for the Nansanhuan data\n",
    "\n",
    "data_nan= data[data['stationId'] == 'nansanhuan_aq']\n",
    "\n",
    "data_nan.head() "
   ]
  },
  {
   "cell_type": "code",
   "execution_count": 122,
   "metadata": {},
   "outputs": [
    {
     "data": {
      "text/html": [
       "<div>\n",
       "<style scoped>\n",
       "    .dataframe tbody tr th:only-of-type {\n",
       "        vertical-align: middle;\n",
       "    }\n",
       "\n",
       "    .dataframe tbody tr th {\n",
       "        vertical-align: top;\n",
       "    }\n",
       "\n",
       "    .dataframe thead th {\n",
       "        text-align: right;\n",
       "    }\n",
       "</style>\n",
       "<table border=\"1\" class=\"dataframe\">\n",
       "  <thead>\n",
       "    <tr style=\"text-align: right;\">\n",
       "      <th></th>\n",
       "      <th>utc_time</th>\n",
       "      <th>PM2.5_nansanhuan</th>\n",
       "    </tr>\n",
       "  </thead>\n",
       "  <tbody>\n",
       "    <tr>\n",
       "      <td>151062</td>\n",
       "      <td>01/01/2017 14:00</td>\n",
       "      <td>431.0</td>\n",
       "    </tr>\n",
       "    <tr>\n",
       "      <td>151063</td>\n",
       "      <td>01/01/2017 15:00</td>\n",
       "      <td>426.0</td>\n",
       "    </tr>\n",
       "    <tr>\n",
       "      <td>151064</td>\n",
       "      <td>01/01/2017 16:00</td>\n",
       "      <td>420.0</td>\n",
       "    </tr>\n",
       "    <tr>\n",
       "      <td>151065</td>\n",
       "      <td>01/01/2017 17:00</td>\n",
       "      <td>417.0</td>\n",
       "    </tr>\n",
       "    <tr>\n",
       "      <td>151066</td>\n",
       "      <td>01/01/2017 18:00</td>\n",
       "      <td>426.0</td>\n",
       "    </tr>\n",
       "  </tbody>\n",
       "</table>\n",
       "</div>"
      ],
      "text/plain": [
       "                utc_time  PM2.5_nansanhuan\n",
       "151062  01/01/2017 14:00             431.0\n",
       "151063  01/01/2017 15:00             426.0\n",
       "151064  01/01/2017 16:00             420.0\n",
       "151065  01/01/2017 17:00             417.0\n",
       "151066  01/01/2017 18:00             426.0"
      ]
     },
     "execution_count": 122,
     "metadata": {},
     "output_type": "execute_result"
    }
   ],
   "source": [
    "#Renaming the columns so the dataframes can be merged later\n",
    "data_nan=data_nan.rename(columns={\"PM2.5\": \"PM2.5_nansanhuan\"})\n",
    "\n",
    "#The only columns we need are the station name, the time, and the PM2.5 values\n",
    "data_nan = data_nan[['utc_time', 'PM2.5_nansanhuan']]\n",
    "\n",
    "data_nan.head()"
   ]
  },
  {
   "cell_type": "code",
   "execution_count": 123,
   "metadata": {},
   "outputs": [],
   "source": [
    "#Setting index to UTC time\n",
    "\n",
    "data_nan=data_nan.set_index('utc_time')"
   ]
  },
  {
   "cell_type": "code",
   "execution_count": 124,
   "metadata": {},
   "outputs": [
    {
     "data": {
      "text/html": [
       "<div>\n",
       "<style scoped>\n",
       "    .dataframe tbody tr th:only-of-type {\n",
       "        vertical-align: middle;\n",
       "    }\n",
       "\n",
       "    .dataframe tbody tr th {\n",
       "        vertical-align: top;\n",
       "    }\n",
       "\n",
       "    .dataframe thead th {\n",
       "        text-align: right;\n",
       "    }\n",
       "</style>\n",
       "<table border=\"1\" class=\"dataframe\">\n",
       "  <thead>\n",
       "    <tr style=\"text-align: right;\">\n",
       "      <th></th>\n",
       "      <th>PM2.5_nansanhuan</th>\n",
       "    </tr>\n",
       "    <tr>\n",
       "      <th>utc_time</th>\n",
       "      <th></th>\n",
       "    </tr>\n",
       "  </thead>\n",
       "  <tbody>\n",
       "    <tr>\n",
       "      <td>01/01/2017 14:00</td>\n",
       "      <td>431.0</td>\n",
       "    </tr>\n",
       "    <tr>\n",
       "      <td>01/01/2017 15:00</td>\n",
       "      <td>426.0</td>\n",
       "    </tr>\n",
       "    <tr>\n",
       "      <td>01/01/2017 16:00</td>\n",
       "      <td>420.0</td>\n",
       "    </tr>\n",
       "    <tr>\n",
       "      <td>01/01/2017 17:00</td>\n",
       "      <td>417.0</td>\n",
       "    </tr>\n",
       "    <tr>\n",
       "      <td>01/01/2017 18:00</td>\n",
       "      <td>426.0</td>\n",
       "    </tr>\n",
       "  </tbody>\n",
       "</table>\n",
       "</div>"
      ],
      "text/plain": [
       "                  PM2.5_nansanhuan\n",
       "utc_time                          \n",
       "01/01/2017 14:00             431.0\n",
       "01/01/2017 15:00             426.0\n",
       "01/01/2017 16:00             420.0\n",
       "01/01/2017 17:00             417.0\n",
       "01/01/2017 18:00             426.0"
      ]
     },
     "execution_count": 124,
     "metadata": {},
     "output_type": "execute_result"
    }
   ],
   "source": [
    "data_nan.head()"
   ]
  },
  {
   "cell_type": "code",
   "execution_count": 125,
   "metadata": {},
   "outputs": [],
   "source": [
    "data_yiz = data[data['stationId'] == 'yizhuang_aq']\n",
    "data_yiz=data_yiz.rename(columns={\"PM2.5\": \"PM2.5_yizhuang\"})\n",
    "data_yiz = data_yiz[['utc_time', 'PM2.5_yizhuang']]\n",
    "data_yiz = data_yiz.set_index('utc_time')"
   ]
  },
  {
   "cell_type": "code",
   "execution_count": 126,
   "metadata": {},
   "outputs": [],
   "source": [
    "data_yong= data[data['stationId'] == 'yongdingmennei_aq']\n",
    "data_yong=data_yong.rename(columns={\"PM2.5\": \"PM2.5_yongdingmennei\"})\n",
    "data_yong= data_yong[['utc_time', 'PM2.5_yongdingmennei']]\n",
    "data_yong=data_yong.set_index('utc_time')"
   ]
  },
  {
   "cell_type": "code",
   "execution_count": 127,
   "metadata": {},
   "outputs": [],
   "source": [
    "data_qia=data[data['stationId'] == 'qianmen_aq']\n",
    "data_qia=data_qia.rename(columns={\"PM2.5\": \"PM2.5_qianmen\"})\n",
    "data_qia=data_qia[['utc_time', 'PM2.5_qianmen']]\n",
    "data_qia=data_qia.set_index('utc_time')"
   ]
  },
  {
   "cell_type": "code",
   "execution_count": 128,
   "metadata": {},
   "outputs": [],
   "source": [
    "data_beib=data[data['stationId'] == 'beibuxinqu_aq']\n",
    "data_beib=data_beib.rename(columns={\"PM2.5\": \"PM2.5_beibuxinqu\"})\n",
    "data_beib=data_beib[['utc_time', 'PM2.5_beibuxinqu']]\n",
    "data_beib=data_beib.set_index('utc_time')"
   ]
  },
  {
   "cell_type": "code",
   "execution_count": 129,
   "metadata": {},
   "outputs": [
    {
     "data": {
      "text/html": [
       "<div>\n",
       "<style scoped>\n",
       "    .dataframe tbody tr th:only-of-type {\n",
       "        vertical-align: middle;\n",
       "    }\n",
       "\n",
       "    .dataframe tbody tr th {\n",
       "        vertical-align: top;\n",
       "    }\n",
       "\n",
       "    .dataframe thead th {\n",
       "        text-align: right;\n",
       "    }\n",
       "</style>\n",
       "<table border=\"1\" class=\"dataframe\">\n",
       "  <thead>\n",
       "    <tr style=\"text-align: right;\">\n",
       "      <th></th>\n",
       "      <th>PM2.5_nansanhuan</th>\n",
       "      <th>PM2.5_yizhuang</th>\n",
       "      <th>PM2.5_yongdingmennei</th>\n",
       "      <th>PM2.5_qianmen</th>\n",
       "      <th>PM2.5_beibuxinqu</th>\n",
       "    </tr>\n",
       "    <tr>\n",
       "      <th>utc_time</th>\n",
       "      <th></th>\n",
       "      <th></th>\n",
       "      <th></th>\n",
       "      <th></th>\n",
       "      <th></th>\n",
       "    </tr>\n",
       "  </thead>\n",
       "  <tbody>\n",
       "    <tr>\n",
       "      <td>01/01/2017 14:00</td>\n",
       "      <td>431.0</td>\n",
       "      <td>278.0</td>\n",
       "      <td>415.0</td>\n",
       "      <td>436.0</td>\n",
       "      <td>479.0</td>\n",
       "    </tr>\n",
       "    <tr>\n",
       "      <td>01/01/2017 15:00</td>\n",
       "      <td>426.0</td>\n",
       "      <td>298.0</td>\n",
       "      <td>409.0</td>\n",
       "      <td>443.0</td>\n",
       "      <td>481.0</td>\n",
       "    </tr>\n",
       "    <tr>\n",
       "      <td>01/01/2017 16:00</td>\n",
       "      <td>420.0</td>\n",
       "      <td>306.0</td>\n",
       "      <td>401.0</td>\n",
       "      <td>429.0</td>\n",
       "      <td>488.0</td>\n",
       "    </tr>\n",
       "    <tr>\n",
       "      <td>01/01/2017 17:00</td>\n",
       "      <td>417.0</td>\n",
       "      <td>306.0</td>\n",
       "      <td>407.0</td>\n",
       "      <td>448.0</td>\n",
       "      <td>487.0</td>\n",
       "    </tr>\n",
       "    <tr>\n",
       "      <td>01/01/2017 18:00</td>\n",
       "      <td>426.0</td>\n",
       "      <td>315.0</td>\n",
       "      <td>415.0</td>\n",
       "      <td>452.0</td>\n",
       "      <td>489.0</td>\n",
       "    </tr>\n",
       "  </tbody>\n",
       "</table>\n",
       "</div>"
      ],
      "text/plain": [
       "                  PM2.5_nansanhuan  PM2.5_yizhuang  PM2.5_yongdingmennei  \\\n",
       "utc_time                                                                   \n",
       "01/01/2017 14:00             431.0           278.0                 415.0   \n",
       "01/01/2017 15:00             426.0           298.0                 409.0   \n",
       "01/01/2017 16:00             420.0           306.0                 401.0   \n",
       "01/01/2017 17:00             417.0           306.0                 407.0   \n",
       "01/01/2017 18:00             426.0           315.0                 415.0   \n",
       "\n",
       "                  PM2.5_qianmen  PM2.5_beibuxinqu  \n",
       "utc_time                                           \n",
       "01/01/2017 14:00          436.0             479.0  \n",
       "01/01/2017 15:00          443.0             481.0  \n",
       "01/01/2017 16:00          429.0             488.0  \n",
       "01/01/2017 17:00          448.0             487.0  \n",
       "01/01/2017 18:00          452.0             489.0  "
      ]
     },
     "execution_count": 129,
     "metadata": {},
     "output_type": "execute_result"
    }
   ],
   "source": [
    "combined_df=pd.merge(pd.merge(pd.merge(pd.merge(data_nan,data_yiz,on='utc_time'),data_yong,on='utc_time'),data_qia,on='utc_time'),data_beib,on='utc_time')\n",
    "\n",
    "combined_df.head()"
   ]
  },
  {
   "cell_type": "code",
   "execution_count": 130,
   "metadata": {},
   "outputs": [],
   "source": [
    "corr = combined_df[['PM2.5_nansanhuan','PM2.5_yizhuang','PM2.5_yongdingmennei','PM2.5_qianmen','PM2.5_beibuxinqu']].corr()"
   ]
  },
  {
   "cell_type": "code",
   "execution_count": 131,
   "metadata": {},
   "outputs": [
    {
     "data": {
      "image/png": "[encoded data removed]",
      "text/plain": [
       "<Figure size 432x288 with 2 Axes>"
      ]
     },
     "metadata": {
      "needs_background": "light"
     },
     "output_type": "display_data"
    }
   ],
   "source": [
    "import matplotlib.pyplot as plt\n",
    "import seaborn as sns\n",
    "sns.heatmap(corr, xticklabels=corr.columns, yticklabels=corr.columns)\n",
    "plt.show()"
   ]
  },
  {
   "cell_type": "code",
   "execution_count": 132,
   "metadata": {},
   "outputs": [
    {
     "data": {
      "image/png": "[encoded data removed]",
      "text/plain": [
       "<Figure size 1008x1008 with 1 Axes>"
      ]
     },
     "metadata": {
      "needs_background": "light"
     },
     "output_type": "display_data"
    }
   ],
   "source": [
    "combined_df[['PM2.5_nansanhuan','PM2.5_yizhuang','PM2.5_yongdingmennei','PM2.5_qianmen','PM2.5_beibuxinqu']].boxplot(column=['PM2.5_nansanhuan','PM2.5_yizhuang','PM2.5_yongdingmennei','PM2.5_qianmen','PM2.5_beibuxinqu'],figsize=(14,14)).set_yscale('log')"
   ]
  },
  {
   "cell_type": "code",
   "execution_count": 119,
   "metadata": {},
   "outputs": [],
   "source": [
    "# References\n",
    "# https://stackoverflow.com/questions/23668427/pandas-three-way-joining-multiple-dataframes-on-columns\n",
    "# https://seaborn.pydata.org/generated/seaborn.heatmap.html"
   ]
  },
  {
   "cell_type": "code",
   "execution_count": null,
   "metadata": {},
   "outputs": [],
   "source": []
  }
 ],
 "metadata": {
  "kernelspec": {
   "display_name": "Python 3",
   "language": "python",
   "name": "python3"
  },
  "language_info": {
   "codemirror_mode": {
    "name": "ipython",
    "version": 3
   },
   "file_extension": ".py",
   "mimetype": "text/x-python",
   "name": "python",
   "nbconvert_exporter": "python",
   "pygments_lexer": "ipython3",
   "version": "3.7.4"
  }
 },
 "nbformat": 4,
 "nbformat_minor": 2
}
